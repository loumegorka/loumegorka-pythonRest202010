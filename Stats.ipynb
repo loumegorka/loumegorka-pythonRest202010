{
 "cells": [
  {
   "cell_type": "code",
   "execution_count": null,
   "metadata": {},
   "outputs": [],
   "source": [
    "import pandas as pd\n",
    "import requests\n",
    "from datetime import datetime\n",
    "import matplotlib.pyplot as plt\n",
    "import matplotlib.ticker as ticker\n",
    "import matplotlib.dates as mdates"
   ]
  },
  {
   "cell_type": "code",
   "execution_count": null,
   "metadata": {},
   "outputs": [],
   "source": [
    "API_URL = \"http://localhost:8000/\""
   ]
  },
  {
   "cell_type": "markdown",
   "metadata": {},
   "source": [
    "## stars by_birthyear(1 year)"
   ]
  },
  {
   "cell_type": "code",
   "execution_count": null,
   "metadata": {},
   "outputs": [],
   "source": [
    "year = 1950"
   ]
  },
  {
   "cell_type": "code",
   "execution_count": null,
   "metadata": {},
   "outputs": [],
   "source": [
    "starsByBirthyear = pd.read_json(API_URL+f\"stars/by_birthyear/{year}\", convert_dates=['birthdate']).set_index('name')\n",
    "starsByBirthyear"
   ]
  },
  {
   "cell_type": "markdown",
   "metadata": {},
   "source": [
    "## movies by_title_part (1 fragment title)"
   ]
  },
  {
   "cell_type": "code",
   "execution_count": null,
   "metadata": {},
   "outputs": [],
   "source": [
    "title_part = \"The\""
   ]
  },
  {
   "cell_type": "code",
   "execution_count": null,
   "metadata": {},
   "outputs": [],
   "source": [
    "moviesByTitlePart = pd.read_json(API_URL+f\"movies/by_title_part/?t={title_part}\").set_index('title')\n",
    "moviesByTitlePart"
   ]
  },
  {
   "cell_type": "markdown",
   "metadata": {},
   "source": [
    "## Répartition par année des films et naissances de star: 2 graphes (post traitement pandas)"
   ]
  },
  {
   "cell_type": "code",
   "execution_count": null,
   "metadata": {},
   "outputs": [],
   "source": [
    "countStarsByYear = dfStars[~dfStars.birthdate.isna()].groupby(pd.Grouper(key='birthdate', freq='Y')).count()\n",
    "countMoviesByYear = dfMovies.groupby(pd.Grouper(key='year')).count()[['title']]\n",
    "countStarsByYearFromApi = pd.read_json(API_URL+\"stars/stats_by_birthyear\").set_index(\"birthyear\")"
   ]
  },
  {
   "cell_type": "code",
   "execution_count": null,
   "metadata": {},
   "outputs": [],
   "source": [
    "fig, ((ax1, ax2), (ax3, ax4)) = plt.subplots(2, 2, figsize=(16,10))\n",
    "\n",
    "ax1.bar(countStarsByYear.index, countStarsByYear.name, color='green', width=200)\n",
    "ax1.set_title(\"Naissance de stars(Post traitement pandas)\")\n",
    "ax1.set_xlabel(\"Année de naissance\")\n",
    "ax1.set_ylabel(\"Nombre de stars\")\n",
    "ax1.set_xlim(datetime(1900,1,1), datetime(2020,1,1))\n",
    "ax1.xaxis.set_minor_locator(mdates.YearLocator(base=10))\n",
    "ax1.xaxis.set_major_formatter(mdates.DateFormatter('%Y'))\n",
    "\n",
    "ax2.bar(countMoviesByYear.index, countMoviesByYear.title, color='green')\n",
    "ax2.set_title(\"Films par année\")\n",
    "ax2.set_xlabel(\"Année de sortie\")\n",
    "ax2.set_ylabel(\"Nombre de films\")\n",
    "ax2.set_xlim(1900, 2020)\n",
    "ax2.xaxis.set_minor_locator(ticker.MultipleLocator(10))\n",
    "\n",
    "countStarsByYearFromApi.plot(ax=ax3, color=\"green\")\n",
    "ax3.set_title(\"Naissance de satrs\")\n",
    "ax3.set_xlabel(\"Année de naissance\")\n",
    "ax1.set_xlim(datetime(1900,1,1), datetime(2020,1,1))\n",
    "ax1.xaxis.set_minor_locator(mdates.YearLocator(base=10))\n",
    "ax1.xaxis.set_major_formatter(mdates.DateFormatter('%Y'))"
   ]
  }
 ],
 "metadata": {
  "kernelspec": {
   "display_name": "Python 3",
   "language": "python",
   "name": "python3"
  },
  "language_info": {
   "codemirror_mode": {
    "name": "ipython",
    "version": 3
   },
   "file_extension": ".py",
   "mimetype": "text/x-python",
   "name": "python",
   "nbconvert_exporter": "python",
   "pygments_lexer": "ipython3",
   "version": "3.8.3"
  }
 },
 "nbformat": 4,
 "nbformat_minor": 4
}
